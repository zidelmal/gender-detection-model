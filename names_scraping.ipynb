{
 "cells": [
  {
   "cell_type": "code",
   "execution_count": null,
   "metadata": {},
   "outputs": [],
   "source": [
    "#imports here\n",
    "import selenium\n",
    "from selenium import webdriver\n",
    "from selenium.webdriver.common.keys import Keys\n",
    "from selenium.webdriver.support import expected_conditions as EC\n",
    "from selenium.webdriver.common.by import By\n",
    "from selenium.webdriver.support.wait import WebDriverWait\n",
    "from selenium.webdriver.chrome.options import Options\n",
    "from selenium.webdriver.support.ui import Select\n",
    "from bs4 import BeautifulSoup\n",
    "import pandas as pd\n",
    "from time import sleep\n",
    "\n",
    "chrome_options = webdriver.ChromeOptions()\n",
    "prefs = {\"profile.default_content_setting_values.notifications\" : 2}\n",
    "chrome_options.add_experimental_option(\"prefs\",prefs)\n",
    "chrome_options.add_argument('headless')\n",
    "chrome_options.add_argument('window-size=0x0')\n",
    "\n",
    "#specify the path to msedgedriver.exe (download and save on your computer)\n",
    "driver = webdriver.Chrome('chromedriver.exe', options=chrome_options)\n",
    "\n",
    "names_list=[]\n",
    "i=1\n",
    "while True:\n",
    "    driver.get(\"https://angelsname.com/tunisia-names/\"+str(i))\n",
    "    sleep(1)\n",
    "    soup=BeautifulSoup(driver.page_source,\"html.parser\")\n",
    "    all_names=soup.find_all(id='tr-body')\n",
    "    for name in all_names:\n",
    "#--------------------------------------------------Out of the box------------------------------------------------------------------------        \n",
    "        Nom=name.find('a').get_text().strip()\n",
    "        print(Nom)\n",
    "#--------------------------------------------------Append informations-------------------------------------------------------------------\n",
    "        names_list.append(Nom)\n",
    "    if i==6:\n",
    "        break\n",
    "    i+=1\n",
    "#-------------------------------------------------\n",
    "df=pd.DataFrame({\"name\":names_list})\n",
    "df.drop_duplicates(subset =[\"name\"], inplace = True)\n",
    "\n",
    "driver.quit()"
   ]
  },
  {
   "cell_type": "code",
   "execution_count": null,
   "metadata": {},
   "outputs": [],
   "source": [
    "df"
   ]
  },
  {
   "cell_type": "code",
   "execution_count": null,
   "metadata": {},
   "outputs": [],
   "source": [
    "df['gender']='F'"
   ]
  },
  {
   "cell_type": "code",
   "execution_count": null,
   "metadata": {},
   "outputs": [],
   "source": [
    "df.to_csv(\"datasets/ftn_names.csv\", index=False)"
   ]
  }
 ],
 "metadata": {
  "kernelspec": {
   "display_name": "Python 3.10.5 64-bit",
   "language": "python",
   "name": "python3"
  },
  "language_info": {
   "codemirror_mode": {
    "name": "ipython",
    "version": 3
   },
   "file_extension": ".py",
   "mimetype": "text/x-python",
   "name": "python",
   "nbconvert_exporter": "python",
   "pygments_lexer": "ipython3",
   "version": "3.10.6"
  },
  "orig_nbformat": 4,
  "vscode": {
   "interpreter": {
    "hash": "a9cff5a362bc38ef45d817ae74b1af54d6a076e3d773891282bce078b815ba34"
   }
  }
 },
 "nbformat": 4,
 "nbformat_minor": 2
}
