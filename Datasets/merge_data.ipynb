{
 "cells": [
  {
   "cell_type": "code",
   "execution_count": null,
   "metadata": {},
   "outputs": [],
   "source": [
    "import pandas as pd\n",
    "import glob"
   ]
  },
  {
   "cell_type": "code",
   "execution_count": null,
   "metadata": {},
   "outputs": [],
   "source": [
    "path = r'/home/yassir/Documents/work/gender-prediction/gender-detector-model/Datasets/names' # use your path\n",
    "all = glob.glob(path + r\"/yob*.txt\")"
   ]
  },
  {
   "cell_type": "code",
   "execution_count": 108,
   "metadata": {},
   "outputs": [],
   "source": [
    "names = pd.DataFrame()\n",
    "for i,file in enumerate(all):\n",
    "    if i==0:\n",
    "        names = pd.concat([names, pd.read_csv(file, sep=',', header=None, names=['name', 'gender', 'nb'])])\n",
    "    else:\n",
    "        names = pd.concat([names, pd.read_csv(file, sep=',', header=None, names=['name', 'gender', 'nb'])], ignore_index=True)"
   ]
  },
  {
   "cell_type": "code",
   "execution_count": 109,
   "metadata": {},
   "outputs": [],
   "source": [
    "names.drop(columns=['nb'], inplace=True)"
   ]
  },
  {
   "cell_type": "code",
   "execution_count": 111,
   "metadata": {},
   "outputs": [],
   "source": [
    "path_ar = r'/home/yassir/Documents/work/gender-prediction/gender-detector-model/Datasets/ar_en' # use your path\n",
    "all_ar = glob.glob(path_ar + r\"/*.csv\")"
   ]
  },
  {
   "cell_type": "code",
   "execution_count": 112,
   "metadata": {},
   "outputs": [
    {
     "data": {
      "text/plain": [
       "['/home/yassir/Documents/work/gender-prediction/gender-detector-model/Datasets/ar_en/males_en.csv',\n",
       " '/home/yassir/Documents/work/gender-prediction/gender-detector-model/Datasets/ar_en/males_ar.csv',\n",
       " '/home/yassir/Documents/work/gender-prediction/gender-detector-model/Datasets/ar_en/females_ar.csv',\n",
       " '/home/yassir/Documents/work/gender-prediction/gender-detector-model/Datasets/ar_en/females_en.csv',\n",
       " '/home/yassir/Documents/work/gender-prediction/gender-detector-model/Datasets/ar_en/dz_names.csv',\n",
       " '/home/yassir/Documents/work/gender-prediction/gender-detector-model/Datasets/ar_en/ma_names.csv',\n",
       " '/home/yassir/Documents/work/gender-prediction/gender-detector-model/Datasets/ar_en/ftn_names.csv',\n",
       " '/home/yassir/Documents/work/gender-prediction/gender-detector-model/Datasets/ar_en/fa_names.csv']"
      ]
     },
     "execution_count": 112,
     "metadata": {},
     "output_type": "execute_result"
    }
   ],
   "source": [
    "all_ar"
   ]
  },
  {
   "cell_type": "code",
   "execution_count": 121,
   "metadata": {},
   "outputs": [],
   "source": [
    "names_ar = pd.DataFrame()\n",
    "for file in all_ar:\n",
    "    names_ar = pd.concat([names_ar, pd.read_csv(file)], ignore_index=True, axis=0)"
   ]
  },
  {
   "cell_type": "code",
   "execution_count": 122,
   "metadata": {},
   "outputs": [
    {
     "data": {
      "text/html": [
       "<div>\n",
       "<style scoped>\n",
       "    .dataframe tbody tr th:only-of-type {\n",
       "        vertical-align: middle;\n",
       "    }\n",
       "\n",
       "    .dataframe tbody tr th {\n",
       "        vertical-align: top;\n",
       "    }\n",
       "\n",
       "    .dataframe thead th {\n",
       "        text-align: right;\n",
       "    }\n",
       "</style>\n",
       "<table border=\"1\" class=\"dataframe\">\n",
       "  <thead>\n",
       "    <tr style=\"text-align: right;\">\n",
       "      <th></th>\n",
       "      <th>name</th>\n",
       "      <th>gender</th>\n",
       "    </tr>\n",
       "  </thead>\n",
       "  <tbody>\n",
       "    <tr>\n",
       "      <th>0</th>\n",
       "      <td>aaban</td>\n",
       "      <td>M</td>\n",
       "    </tr>\n",
       "    <tr>\n",
       "      <th>1</th>\n",
       "      <td>aabid</td>\n",
       "      <td>M</td>\n",
       "    </tr>\n",
       "    <tr>\n",
       "      <th>2</th>\n",
       "      <td>aadil</td>\n",
       "      <td>M</td>\n",
       "    </tr>\n",
       "    <tr>\n",
       "      <th>3</th>\n",
       "      <td>aahil</td>\n",
       "      <td>M</td>\n",
       "    </tr>\n",
       "    <tr>\n",
       "      <th>4</th>\n",
       "      <td>aalam</td>\n",
       "      <td>M</td>\n",
       "    </tr>\n",
       "    <tr>\n",
       "      <th>...</th>\n",
       "      <td>...</td>\n",
       "      <td>...</td>\n",
       "    </tr>\n",
       "    <tr>\n",
       "      <th>10556</th>\n",
       "      <td>zhour</td>\n",
       "      <td>F</td>\n",
       "    </tr>\n",
       "    <tr>\n",
       "      <th>10557</th>\n",
       "      <td>Zina</td>\n",
       "      <td>F</td>\n",
       "    </tr>\n",
       "    <tr>\n",
       "      <th>10558</th>\n",
       "      <td>Zineb</td>\n",
       "      <td>F</td>\n",
       "    </tr>\n",
       "    <tr>\n",
       "      <th>10559</th>\n",
       "      <td>Zohra</td>\n",
       "      <td>F</td>\n",
       "    </tr>\n",
       "    <tr>\n",
       "      <th>10560</th>\n",
       "      <td>Zoulikha</td>\n",
       "      <td>F</td>\n",
       "    </tr>\n",
       "  </tbody>\n",
       "</table>\n",
       "<p>10561 rows × 2 columns</p>\n",
       "</div>"
      ],
      "text/plain": [
       "           name gender\n",
       "0         aaban      M\n",
       "1         aabid      M\n",
       "2         aadil      M\n",
       "3         aahil      M\n",
       "4         aalam      M\n",
       "...         ...    ...\n",
       "10556     zhour      F\n",
       "10557      Zina      F\n",
       "10558     Zineb      F\n",
       "10559     Zohra      F\n",
       "10560  Zoulikha      F\n",
       "\n",
       "[10561 rows x 2 columns]"
      ]
     },
     "execution_count": 122,
     "metadata": {},
     "output_type": "execute_result"
    }
   ],
   "source": [
    "names_ar"
   ]
  },
  {
   "cell_type": "code",
   "execution_count": 97,
   "metadata": {},
   "outputs": [],
   "source": [
    "df1 = pd.read_csv('/home/yassir/Documents/work/gender-prediction/gender-detector-model/Datasets/female.csv')\n",
    "df2 = pd.read_csv('/home/yassir/Documents/work/gender-prediction/gender-detector-model/Datasets/male.csv')\n",
    "df3 = pd.read_csv('/home/yassir/Documents/work/gender-prediction/gender-detector-model/Datasets/names.csv')"
   ]
  },
  {
   "cell_type": "code",
   "execution_count": 123,
   "metadata": {},
   "outputs": [],
   "source": [
    "all_names = pd.concat([names, names_ar, df1, df2, df3], ignore_index=True)"
   ]
  },
  {
   "cell_type": "code",
   "execution_count": 124,
   "metadata": {},
   "outputs": [
    {
     "data": {
      "text/plain": [
       "F    0.54985\n",
       "M    0.45015\n",
       "Name: gender, dtype: float64"
      ]
     },
     "execution_count": 124,
     "metadata": {},
     "output_type": "execute_result"
    }
   ],
   "source": [
    "all_names.drop_duplicates().gender.value_counts(all_names.shape[0])"
   ]
  },
  {
   "cell_type": "code",
   "execution_count": 125,
   "metadata": {},
   "outputs": [
    {
     "data": {
      "text/html": [
       "<div>\n",
       "<style scoped>\n",
       "    .dataframe tbody tr th:only-of-type {\n",
       "        vertical-align: middle;\n",
       "    }\n",
       "\n",
       "    .dataframe tbody tr th {\n",
       "        vertical-align: top;\n",
       "    }\n",
       "\n",
       "    .dataframe thead th {\n",
       "        text-align: right;\n",
       "    }\n",
       "</style>\n",
       "<table border=\"1\" class=\"dataframe\">\n",
       "  <thead>\n",
       "    <tr style=\"text-align: right;\">\n",
       "      <th></th>\n",
       "      <th>name</th>\n",
       "      <th>gender</th>\n",
       "    </tr>\n",
       "  </thead>\n",
       "  <tbody>\n",
       "    <tr>\n",
       "      <th>0</th>\n",
       "      <td>Mary</td>\n",
       "      <td>F</td>\n",
       "    </tr>\n",
       "    <tr>\n",
       "      <th>1</th>\n",
       "      <td>Helen</td>\n",
       "      <td>F</td>\n",
       "    </tr>\n",
       "    <tr>\n",
       "      <th>2</th>\n",
       "      <td>Margaret</td>\n",
       "      <td>F</td>\n",
       "    </tr>\n",
       "    <tr>\n",
       "      <th>3</th>\n",
       "      <td>Ruth</td>\n",
       "      <td>F</td>\n",
       "    </tr>\n",
       "    <tr>\n",
       "      <th>4</th>\n",
       "      <td>Dorothy</td>\n",
       "      <td>F</td>\n",
       "    </tr>\n",
       "    <tr>\n",
       "      <th>...</th>\n",
       "      <td>...</td>\n",
       "      <td>...</td>\n",
       "    </tr>\n",
       "    <tr>\n",
       "      <th>136865</th>\n",
       "      <td>Zunnoon</td>\n",
       "      <td>M</td>\n",
       "    </tr>\n",
       "    <tr>\n",
       "      <th>136866</th>\n",
       "      <td>Zuraib</td>\n",
       "      <td>M</td>\n",
       "    </tr>\n",
       "    <tr>\n",
       "      <th>136867</th>\n",
       "      <td>Zurfah</td>\n",
       "      <td>M</td>\n",
       "    </tr>\n",
       "    <tr>\n",
       "      <th>136868</th>\n",
       "      <td>Zurmah</td>\n",
       "      <td>M</td>\n",
       "    </tr>\n",
       "    <tr>\n",
       "      <th>136869</th>\n",
       "      <td>Zuti</td>\n",
       "      <td>M</td>\n",
       "    </tr>\n",
       "  </tbody>\n",
       "</table>\n",
       "<p>136870 rows × 2 columns</p>\n",
       "</div>"
      ],
      "text/plain": [
       "            name gender\n",
       "0           Mary      F\n",
       "1          Helen      F\n",
       "2       Margaret      F\n",
       "3           Ruth      F\n",
       "4        Dorothy      F\n",
       "...          ...    ...\n",
       "136865   Zunnoon      M\n",
       "136866    Zuraib      M\n",
       "136867    Zurfah      M\n",
       "136868    Zurmah      M\n",
       "136869      Zuti      M\n",
       "\n",
       "[136870 rows x 2 columns]"
      ]
     },
     "execution_count": 125,
     "metadata": {},
     "output_type": "execute_result"
    }
   ],
   "source": [
    "all_names = all_names.drop_duplicates().reset_index(drop=True)\n",
    "all_names"
   ]
  },
  {
   "cell_type": "code",
   "execution_count": 126,
   "metadata": {},
   "outputs": [],
   "source": [
    "all_names.to_csv('df_names.csv', index=False)"
   ]
  }
 ],
 "metadata": {
  "kernelspec": {
   "display_name": "env",
   "language": "python",
   "name": "python3"
  },
  "language_info": {
   "codemirror_mode": {
    "name": "ipython",
    "version": 3
   },
   "file_extension": ".py",
   "mimetype": "text/x-python",
   "name": "python",
   "nbconvert_exporter": "python",
   "pygments_lexer": "ipython3",
   "version": "3.10.7"
  },
  "orig_nbformat": 4
 },
 "nbformat": 4,
 "nbformat_minor": 2
}
